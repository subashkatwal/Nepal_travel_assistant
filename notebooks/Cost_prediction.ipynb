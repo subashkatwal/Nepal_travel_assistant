{
 "cells": [
  {
   "cell_type": "markdown",
   "id": "1656e56b",
   "metadata": {},
   "source": [
    "#Applying Linear Regression to estimate the cost "
   ]
  },
  {
   "cell_type": "code",
   "execution_count": 51,
   "id": "92e3c35b",
   "metadata": {},
   "outputs": [
    {
     "name": "stdout",
     "output_type": "stream",
     "text": [
      "Requirement already satisfied: scikit-learn in c:\\users\\dell\\desktop\\travelassistant\\venv\\lib\\site-packages (1.7.0)\n",
      "Requirement already satisfied: numpy>=1.22.0 in c:\\users\\dell\\desktop\\travelassistant\\venv\\lib\\site-packages (from scikit-learn) (2.3.1)\n",
      "Requirement already satisfied: scipy>=1.8.0 in c:\\users\\dell\\desktop\\travelassistant\\venv\\lib\\site-packages (from scikit-learn) (1.16.0)\n",
      "Requirement already satisfied: joblib>=1.2.0 in c:\\users\\dell\\desktop\\travelassistant\\venv\\lib\\site-packages (from scikit-learn) (1.5.1)\n",
      "Requirement already satisfied: threadpoolctl>=3.1.0 in c:\\users\\dell\\desktop\\travelassistant\\venv\\lib\\site-packages (from scikit-learn) (3.6.0)\n",
      "Note: you may need to restart the kernel to use updated packages.\n"
     ]
    }
   ],
   "source": [
    "%pip install --upgrade scikit-learn\n"
   ]
  },
  {
   "cell_type": "code",
   "execution_count": 1,
   "id": "6174fdf4",
   "metadata": {},
   "outputs": [],
   "source": [
    "from sklearn.linear_model import LinearRegression \n",
    "from sklearn.model_selection import train_test_split \n",
    "from sklearn.feature_extraction.text import CountVectorizer\n",
    "import pandas as pd \n",
    "import numpy as np\n",
    "\n"
   ]
  },
  {
   "cell_type": "markdown",
   "id": "23633bce",
   "metadata": {},
   "source": [
    "Loading csv and applying One hot encoding"
   ]
  },
  {
   "cell_type": "code",
   "execution_count": 2,
   "id": "81702cb0",
   "metadata": {},
   "outputs": [],
   "source": [
    "df=pd.read_csv(\"../data/cleaned_destinations.csv\")\n",
    "df= pd.get_dummies(df,columns=['category','city','best_season'])\n"
   ]
  },
  {
   "cell_type": "code",
   "execution_count": 3,
   "id": "964fea79",
   "metadata": {},
   "outputs": [],
   "source": [
    "vectorizer= CountVectorizer(token_pattern=r\"(?u)\\b\\w+\\b\")\n",
    "activity_matrix = vectorizer.fit_transform(df['popular_activities'])\n",
    "activity_df = pd.DataFrame(activity_matrix.toarray(), columns=vectorizer.get_feature_names_out())"
   ]
  },
  {
   "cell_type": "markdown",
   "id": "d69852da",
   "metadata": {},
   "source": [
    "Combine popular_activites in main dataframe"
   ]
  },
  {
   "cell_type": "code",
   "execution_count": 4,
   "id": "83d023f4",
   "metadata": {},
   "outputs": [],
   "source": [
    "df = pd.concat([df.drop('popular_activities', axis=1), activity_df], axis=1)"
   ]
  },
  {
   "cell_type": "code",
   "execution_count": 5,
   "id": "6121a542",
   "metadata": {},
   "outputs": [
    {
     "data": {
      "text/plain": [
       "(202, 95)"
      ]
     },
     "execution_count": 5,
     "metadata": {},
     "output_type": "execute_result"
    }
   ],
   "source": [
    "X= df.drop(['estimated_cost','place_name','description'],axis=1)\n",
    "y = np.log(df['estimated_cost']) \n",
    "\n",
    "X.shape\n"
   ]
  },
  {
   "cell_type": "code",
   "execution_count": 6,
   "id": "67775d37",
   "metadata": {},
   "outputs": [
    {
     "name": "stdout",
     "output_type": "stream",
     "text": [
      "Model accuracy:  0.35576396680747957\n"
     ]
    }
   ],
   "source": [
    "X_train,X_test,y_train,y_test= train_test_split(X,y,test_size= 0.2 ,random_state=42)\n",
    "\n",
    "model=LinearRegression()\n",
    "model.fit(X_train,y_train)\n",
    "\n",
    "y_pred = model.predict(X_test)\n",
    "y_pred_original_scale = np.exp(y_pred) \n",
    "print(\"Model accuracy: \",model.score(X_test,y_test))\n"
   ]
  },
  {
   "cell_type": "markdown",
   "id": "c2b18101",
   "metadata": {},
   "source": [
    "Using Bagging to check the models accuracy"
   ]
  },
  {
   "cell_type": "code",
   "execution_count": 7,
   "id": "d1c5d0bf",
   "metadata": {},
   "outputs": [
    {
     "name": "stdout",
     "output_type": "stream",
     "text": [
      "Predicted values: [2133.24       3746.06       3168.19333333 2214.6        1971.52\n",
      " 1300.04666667 3660.21333333 2682.84857143 1902.34       3782.8\n",
      " 2344.128      2765.936      1971.52       2841.8        4387.8\n",
      " 3566.42857143 3345.50047619 3100.956      2432.08       2878.27428571\n",
      " 3743.78       2743.34       1735.14333333 3346.98       1992.43\n",
      " 2482.59428571 3855.42       3611.23714286 1300.         3635.44\n",
      " 2399.18       4121.65428571 3384.27       3582.03714286 2264.48\n",
      " 5140.         2742.64       1685.46733333 4387.8        3924.9\n",
      " 3724.81333333]\n"
     ]
    },
    {
     "data": {
      "text/plain": [
       "['features.pkl']"
      ]
     },
     "execution_count": 7,
     "metadata": {},
     "output_type": "execute_result"
    }
   ],
   "source": [
    "import pandas as pd\n",
    "from sklearn.model_selection import train_test_split\n",
    "from sklearn.preprocessing import StandardScaler\n",
    "from sklearn.ensemble import BaggingRegressor\n",
    "from sklearn.tree import DecisionTreeRegressor\n",
    "import joblib \n",
    "\n",
    "\n",
    "df = pd.read_csv(\"../data/cleaned_destinations.csv\")\n",
    "\n",
    "# Drop non-numeric columns including popular_activities\n",
    "categorical_cols = ['category', 'city', 'best_season']\n",
    "X = df.drop(['place_name', 'description', 'estimated_cost', 'popular_activities'], axis=1)\n",
    "\n",
    "# One-hot encode categorical columns\n",
    "X = pd.get_dummies(X, columns=categorical_cols)\n",
    "\n",
    "X = X.astype(int)\n",
    "y = df['estimated_cost']\n",
    "\n",
    "scaler = StandardScaler()\n",
    "X_scaled = scaler.fit_transform(X)\n",
    "\n",
    "# Split data\n",
    "X_train, X_test, y_train, y_test = train_test_split(X_scaled, y, test_size=0.2, random_state=42)\n",
    "\n",
    "# Bagging regressor with decision tree base\n",
    "base_model = DecisionTreeRegressor(max_depth=5, random_state=42)\n",
    "bagging_model = BaggingRegressor(\n",
    "    \n",
    "    n_estimators=50,\n",
    "    random_state=42\n",
    ")\n",
    "\n",
    "bagging_model.fit(X_train, y_train)\n",
    "\n",
    "y_pred = bagging_model.predict(X_test)\n",
    "\n",
    "print(\"Predicted values:\", y_pred)\n",
    "\n",
    "joblib.dump(bagging_model, \"model.pkl\")\n",
    "joblib.dump(scaler, \"scaler.pkl\")\n",
    "joblib.dump(X.columns.tolist(), \"features.pkl\")\n"
   ]
  },
  {
   "cell_type": "code",
   "execution_count": 8,
   "id": "9b1ab8ce",
   "metadata": {},
   "outputs": [
    {
     "name": "stdout",
     "output_type": "stream",
     "text": [
      "Model Performance:\n",
      "MAE: 552.43\n",
      "RMSE: 799.55\n",
      "R^2 Score: 0.4968\n"
     ]
    }
   ],
   "source": [
    "from sklearn.metrics import mean_absolute_error, mean_squared_error, r2_score\n",
    "import numpy as np\n",
    "\n",
    "mae = mean_absolute_error(y_test, y_pred)\n",
    "mse = mean_squared_error(y_test, y_pred)\n",
    "rmse = np.sqrt(mse)   # Manually calculate RMSE\n",
    "r2 = r2_score(y_test, y_pred)\n",
    "\n",
    "print(f\"Model Performance:\")\n",
    "print(f\"MAE: {mae:.2f}\")\n",
    "print(f\"RMSE: {rmse:.2f}\")\n",
    "print(f\"R^2 Score: {r2:.4f}\")\n"
   ]
  },
  {
   "cell_type": "code",
   "execution_count": 9,
   "id": "cf684d2b",
   "metadata": {},
   "outputs": [],
   "source": [
    "# import pandas as pd\n",
    "# from sklearn.preprocessing import StandardScaler\n",
    "# import joblib\n",
    "\n",
    "# # Load your model, scaler, and data\n",
    "# df = pd.read_csv(\"../data/cleaned_destinations.csv\")\n",
    "# bagging_model = joblib.load(\"../models/model.pkl\")      \n",
    "# scaler = joblib.load(\"../models/scaler.pkl\")             \n",
    "# model_feature_columns = joblib.load(\"../models/features.pkl\")  # List of columns used during training\n",
    "\n",
    "# # Reference lists for inputs\n",
    "# categories = sorted(df['category'].unique())\n",
    "# cities = sorted(df['city'].unique())\n",
    "# seasons = sorted(df['best_season'].unique())\n",
    "\n",
    "# # Function to safely get user selection\n",
    "# def select_from_list(prompt, options):\n",
    "#     print(f\"\\n{prompt}\")\n",
    "#     for i, val in enumerate(options, 1):\n",
    "#         print(f\"{i}. {val}\")\n",
    "#     while True:\n",
    "#         try:\n",
    "#             choice = int(input(\"Enter number: \"))\n",
    "#             if 1 <= choice <= len(options):\n",
    "#                 return options[choice - 1]\n",
    "#             else:\n",
    "#                 print(\"Invalid number. Try again.\")\n",
    "#         except ValueError:\n",
    "#             print(\"Please enter a valid number.\")\n",
    "\n",
    "# # Get input\n",
    "# def get_user_input():\n",
    "#     try:\n",
    "#         duration_days = int(input(\"Enter duration of trip in days: \"))\n",
    "#     except ValueError:\n",
    "#         duration_days = 3  # Default fallback\n",
    "#     category = select_from_list(\"Select Category:\", categories)\n",
    "#     city = select_from_list(\"Select City:\", cities)\n",
    "#     season = select_from_list(\"Select Best Season:\", seasons)\n",
    "#     return duration_days, category, city, season\n",
    "\n",
    "# # Prepare features\n",
    "# def prepare_features(duration, category, city, season):\n",
    "#     features = {col: 0 for col in model_feature_columns}\n",
    "#     features['duration_days'] = duration\n",
    "#     for col in [f\"category_{category}\", f\"city_{city}\", f\"best_season_{season}\"]:\n",
    "#         if col in features:\n",
    "#             features[col] = 1\n",
    "#     df_input = pd.DataFrame([features])\n",
    "#     X_scaled = scaler.transform(df_input)\n",
    "#     return X_scaled\n",
    "\n",
    "# # Run prediction\n",
    "# if __name__ == \"__main__\":\n",
    "#     duration, category, city, season = get_user_input()\n",
    "#     X_user = prepare_features(duration, category, city, season)\n",
    "#     predicted_cost = bagging_model.predict(X_user)[0]\n",
    "#     print(f\"\\n✅ Estimated Trip Cost: NPR {predicted_cost:.2f}\")\n"
   ]
  },
  {
   "cell_type": "code",
   "execution_count": null,
   "id": "78109555",
   "metadata": {},
   "outputs": [],
   "source": []
  },
  {
   "cell_type": "code",
   "execution_count": null,
   "id": "5a492974",
   "metadata": {},
   "outputs": [],
   "source": []
  }
 ],
 "metadata": {
  "kernelspec": {
   "display_name": "venv",
   "language": "python",
   "name": "python3"
  },
  "language_info": {
   "codemirror_mode": {
    "name": "ipython",
    "version": 3
   },
   "file_extension": ".py",
   "mimetype": "text/x-python",
   "name": "python",
   "nbconvert_exporter": "python",
   "pygments_lexer": "ipython3",
   "version": "3.13.5"
  }
 },
 "nbformat": 4,
 "nbformat_minor": 5
}
